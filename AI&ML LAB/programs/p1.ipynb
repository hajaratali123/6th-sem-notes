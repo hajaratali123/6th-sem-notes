{
 "cells": [
  {
   "cell_type": "code",
   "execution_count": 7,
   "metadata": {},
   "outputs": [
    {
     "name": "stdout",
     "output_type": "stream",
     "text": [
      "DFS traversal:\n",
      "A B D E F C "
     ]
    }
   ],
   "source": [
    "def dfs(graph, vertex, visited):\n",
    "    visited.add(vertex)\n",
    "    print(vertex, end=\" \")\n",
    "\n",
    "    for neighbor in graph[vertex]:\n",
    "        if neighbor not in visited:\n",
    "            dfs(graph, neighbor, visited)\n",
    "\n",
    "# Example usage\n",
    "if __name__ == \"__main__\":\n",
    "    graph = {\n",
    "        'A': ['B', 'C'],\n",
    "        'B': ['A','D','E'],\n",
    "        'C': ['A','F'],\n",
    "        'D':['B'],\n",
    "        'E':['B','F'],\n",
    "        'F':['C','E']\n",
    "        \n",
    "    }\n",
    "    visited_nodes = set()\n",
    "    print(\"DFS traversal:\")\n",
    "    dfs(graph, 'A', visited_nodes)\n"
   ]
  },
  {
   "cell_type": "code",
   "execution_count": null,
   "metadata": {},
   "outputs": [],
   "source": []
  },
  {
   "cell_type": "code",
   "execution_count": 5,
   "metadata": {},
   "outputs": [],
   "source": [
    "def dfs(graph, vertex, visited):\n",
    "    visited.add(vertex)\n",
    "    print(vertex, end=\" \")\n",
    "\n",
    "    for neighbor in graph[vertex]:\n",
    "        if neighbor not in visited:\n",
    "            dfs(graph, neighbor, visited)\n",
    "\n",
    "# Example usage\n",
    "\n",
    "    graph = {\n",
    "        0: [1, 2],\n",
    "        1: [2],\n",
    "        2: [3],\n",
    "        3: [1, 2]\n",
    "    }\n",
    "    visited_nodes = set()\n",
    "    print(\"DFS traversal:\")\n",
    "    dfs(graph, 0, visited_nodes)\n"
   ]
  },
  {
   "cell_type": "code",
   "execution_count": 3,
   "metadata": {},
   "outputs": [
    {
     "name": "stdout",
     "output_type": "stream",
     "text": [
      "\n",
      "BFS traversal:\n",
      "0 1 2 3 "
     ]
    }
   ],
   "source": [
    "import collections\n",
    "\n",
    "def bfs(graph, root):\n",
    "    visited, queue = set(), collections.deque([root])\n",
    "    visited.add(root)\n",
    "\n",
    "    while queue:\n",
    "        vertex = queue.popleft()\n",
    "        print(vertex, end=\" \")\n",
    "\n",
    "        for neighbor in graph[vertex]:\n",
    "            if neighbor not in visited:\n",
    "                visited.add(neighbor)\n",
    "                queue.append(neighbor)\n",
    "\n",
    "# Example usage\n",
    "if __name__ == \"__main__\":\n",
    "    graph = {\n",
    "        0: [1, 2],\n",
    "        1: [2],\n",
    "        2: [3],\n",
    "        3: [1, 2]\n",
    "    }\n",
    "    print(\"\\nBFS traversal:\")\n",
    "    bfs(graph, 0)\n"
   ]
  }
 ],
 "metadata": {
  "kernelspec": {
   "display_name": "Python 3",
   "language": "python",
   "name": "python3"
  },
  "language_info": {
   "codemirror_mode": {
    "name": "ipython",
    "version": 3
   },
   "file_extension": ".py",
   "mimetype": "text/x-python",
   "name": "python",
   "nbconvert_exporter": "python",
   "pygments_lexer": "ipython3",
   "version": "3.12.2"
  }
 },
 "nbformat": 4,
 "nbformat_minor": 2
}
