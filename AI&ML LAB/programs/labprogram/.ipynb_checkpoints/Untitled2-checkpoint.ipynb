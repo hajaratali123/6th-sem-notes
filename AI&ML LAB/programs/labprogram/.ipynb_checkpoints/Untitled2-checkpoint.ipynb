{
 "cells": [
  {
   "cell_type": "code",
   "execution_count": null,
   "id": "d763f2f2-ee66-4ba2-9856-93f5cbcc6d16",
   "metadata": {},
   "outputs": [],
   "source": [
    "import cv2\n",
    "from matplotlib import pyplot as plt\n",
    "import numpy as np\n",
    "\n",
    "# Load the image\n",
    "img = cv2.imread(\"labprogram/th (1).jpg\")\n",
    "\n",
    "plt.figure(figsize=(7, 8))\n",
    "plt.subplot(2, 2, 1)\n",
    "plt.imshow(img[:,:,::-1])  # Display the original image\n",
    "plt.axis('off')\n",
    "plt.title(\"Original Image\")\n",
    "\n",
    "# Convert the image to grayscale\n",
    "gray = cv2.cvtColor(img, cv2.COLOR_BGR2GRAY)\n",
    "\n",
    "# Edge detection\n",
    "edges = cv2.Canny(gray, 100, 200)  # Use Canny edge detector\n",
    "\n",
    "# Texture extraction\n",
    "kernel = np.ones((5, 5), np.float32) / 25  # Define a 5x5 averaging kernel\n",
    "texture = cv2.filter2D(gray, -1, kernel)  # Apply the averaging filter for texture extraction\n",
    "\n",
    "# Display the edges\n",
    "plt.subplot(2, 2, 2)\n",
    "plt.imshow(edges, cmap='gray')\n",
    "plt.axis('off')\n",
    "plt.title(\"Edges\")\n",
    "\n",
    "# Display the texture\n",
    "plt.subplot(2, 2, 3)\n",
    "plt.imshow(texture, cmap='gray')\n",
    "plt.axis('off')\n",
    "plt.title(\"Texture\")\n",
    "\n",
    "plt.tight_layout()\n",
    "plt.show()\n"
   ]
  },
  {
   "cell_type": "code",
   "execution_count": null,
   "id": "1047facf-e086-4a82-8253-5677e3f11eeb",
   "metadata": {},
   "outputs": [],
   "source": [
    "pip install opencv-python"
   ]
  },
  {
   "cell_type": "code",
   "execution_count": null,
   "id": "a920ba0a-a7a1-4dd2-b014-a62f975f2c77",
   "metadata": {},
   "outputs": [],
   "source": [
    "pip install opencv-python"
   ]
  },
  {
   "cell_type": "code",
   "execution_count": null,
   "id": "b3fae95e-44be-4e94-b6e1-59d5eb120744",
   "metadata": {},
   "outputs": [],
   "source": []
  }
 ],
 "metadata": {
  "kernelspec": {
   "display_name": "Python 3 (ipykernel)",
   "language": "python",
   "name": "python3"
  },
  "language_info": {
   "codemirror_mode": {
    "name": "ipython",
    "version": 3
   },
   "file_extension": ".py",
   "mimetype": "text/x-python",
   "name": "python",
   "nbconvert_exporter": "python",
   "pygments_lexer": "ipython3",
   "version": "3.11.7"
  }
 },
 "nbformat": 4,
 "nbformat_minor": 5
}
