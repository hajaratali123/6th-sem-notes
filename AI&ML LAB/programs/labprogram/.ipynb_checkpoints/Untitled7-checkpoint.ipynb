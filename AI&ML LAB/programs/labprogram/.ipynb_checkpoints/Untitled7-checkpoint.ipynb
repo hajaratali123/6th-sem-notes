{
 "cells": [
  {
   "cell_type": "code",
   "execution_count": null,
   "id": "a9c810ba-e198-4028-81fd-fa60a86f8757",
   "metadata": {},
   "outputs": [],
   "source": []
  }
 ],
 "metadata": {
  "kernelspec": {
   "display_name": "Python 3 (ipykernel)",
   "language": "python",
   "name": "python3"
  },
  "language_info": {
   "codemirror_mode": {
    "name": "ipython",
    "version": 3
   },
   "file_extension": ".py",
   "mimetype": "text/x-python",
   "name": "python",
   "nbconvert_exporter": "python",
   "pygments_lexer": "ipython3",
   "version": "3.11.7"
  }
 },
 "nbformat": 4,
 "nbformat_minor": 5
}
