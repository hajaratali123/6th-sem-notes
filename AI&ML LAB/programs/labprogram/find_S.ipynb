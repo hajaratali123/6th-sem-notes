{
 "cells": [
  {
   "cell_type": "code",
   "execution_count": 1,
   "id": "56719004-9a6e-4633-af13-4c815bfca075",
   "metadata": {},
   "outputs": [
    {
     "name": "stdout",
     "output_type": "stream",
     "text": [
      "Final Hypothesis: ['Sunny', 'Warm', '?', 'Strong', '?', '?']\n"
     ]
    }
   ],
   "source": [
    "# Find-S Algorithm\n",
    "def find_s(training_data):\n",
    "    hypothesis = [\"0\"] * len(training_data[0][1:])\n",
    " \n",
    "    for example in training_data:\n",
    "        if example[0]:  # If the example is positive\n",
    "            for i in range(len(hypothesis)):\n",
    "                if hypothesis[i] == \"0\":\n",
    "                    hypothesis[i] = example[i + 1]\n",
    "                elif hypothesis[i] != example[i + 1]:\n",
    "                    hypothesis[i] = \"?\"\n",
    " \n",
    "    return hypothesis\n",
    " \n",
    "# Example usage\n",
    "training_data = [\n",
    "    (True, \"Sunny\", \"Warm\", \"Normal\", \"Strong\", \"Warm\", \"Same\"), \n",
    "    (True, \"Sunny\", \"Warm\", \"High\", \"Strong\", \"Warm\", \"Same\"), \n",
    "    (False, \"Rainy\", \"Cold\", \"High\", \"Strong\", \"Warm\", \"Change\"),  \n",
    "    (True, \"Sunny\", \"Warm\", \"High\", \"Strong\", \"Cool\", \"Change\")\n",
    "]\n",
    " \n",
    "hypothesis = find_s(training_data)\n",
    "print(\"Final Hypothesis:\", hypothesis)\n",
    " \n",
    " \n"
   ]
  },
  {
   "cell_type": "code",
   "execution_count": null,
   "id": "d3079ad8-af8a-4cb4-865c-8efb283ecd84",
   "metadata": {},
   "outputs": [],
   "source": []
  }
 ],
 "metadata": {
  "kernelspec": {
   "display_name": "Python 3 (ipykernel)",
   "language": "python",
   "name": "python3"
  },
  "language_info": {
   "codemirror_mode": {
    "name": "ipython",
    "version": 3
   },
   "file_extension": ".py",
   "mimetype": "text/x-python",
   "name": "python",
   "nbconvert_exporter": "python",
   "pygments_lexer": "ipython3",
   "version": "3.11.7"
  }
 },
 "nbformat": 4,
 "nbformat_minor": 5
}
